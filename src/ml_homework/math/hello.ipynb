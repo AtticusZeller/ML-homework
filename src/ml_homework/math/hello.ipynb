{
 "cells": [
  {
   "cell_type": "markdown",
   "id": "502e109e",
   "metadata": {},
   "source": [
    "# hello jupyter\n",
    "\n",
    "this is my lab\n"
   ]
  },
  {
   "cell_type": "code",
   "execution_count": 1,
   "id": "fe2b3191",
   "metadata": {},
   "outputs": [
    {
     "name": "stdout",
     "output_type": "stream",
     "text": [
      "hello jupyter\n"
     ]
    }
   ],
   "source": [
    "print(\"hello jupyter\")"
   ]
  }
 ],
 "metadata": {
  "kernelspec": {
   "display_name": "ml-homework",
   "language": "python",
   "name": "python3"
  },
  "language_info": {
   "codemirror_mode": {
    "name": "ipython",
    "version": 3
   },
   "file_extension": ".py",
   "mimetype": "text/x-python",
   "name": "python",
   "nbconvert_exporter": "python",
   "pygments_lexer": "ipython3",
   "version": "3.12.6"
  }
 },
 "nbformat": 4,
 "nbformat_minor": 5
}
